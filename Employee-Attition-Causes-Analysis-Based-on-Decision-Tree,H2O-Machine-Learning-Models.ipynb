{
 "cells": [
  {
   "cell_type": "markdown",
   "metadata": {},
   "source": [
    "# Data prepare"
   ]
  },
  {
   "cell_type": "markdown",
   "metadata": {},
   "source": [
    "## Data import"
   ]
  },
  {
   "cell_type": "code",
   "execution_count": null,
   "metadata": {
    "vscode": {
     "languageId": "r"
    }
   },
   "outputs": [],
   "source": [
    "df <- read.csv(\"./data/Employee-Attrition.csv\")\n",
    "head(df)"
   ]
  },
  {
   "cell_type": "code",
   "execution_count": null,
   "metadata": {
    "vscode": {
     "languageId": "r"
    }
   },
   "outputs": [],
   "source": [
    "# 创建副本\n",
    "original_df <- df\n",
    "\n",
    "# 查看数据集\n",
    "library(dplyr)\n",
    "library(tidyverse)\n",
    "# Using an insightful summary with skim and kable\n",
    "df %>% glimpse()"
   ]
  },
  {
   "cell_type": "code",
   "execution_count": null,
   "metadata": {
    "vscode": {
     "languageId": "r"
    }
   },
   "outputs": [],
   "source": [
    "# Look up for missing values\n",
    "any(is.na(df))"
   ]
  },
  {
   "cell_type": "markdown",
   "metadata": {},
   "source": [
    "## Prepare data for visualization"
   ]
  },
  {
   "cell_type": "code",
   "execution_count": null,
   "metadata": {
    "vscode": {
     "languageId": "r"
    }
   },
   "outputs": [],
   "source": [
    "# Translate into Chinese\n",
    "\n",
    "df_zh <- df %>%\n",
    "  mutate(Gender = case_when(\n",
    "    Gender == \"Male\" ~ \"男\",\n",
    "    Gender == \"Female\" ~ \"女\",\n",
    "    TRUE ~ Gender\n",
    "  )) %>%\n",
    "  mutate(Attrition = case_when(\n",
    "    Attrition == \"Yes\" ~ \"已流失\",\n",
    "    Attrition == \"No\" ~ \"未流失\",\n",
    "    TRUE ~ Attrition\n",
    "  )) %>%\n",
    "  mutate(Over18 = case_when(\n",
    "    Over18 == \"Y\" ~ \"已成年\",\n",
    "    TRUE ~ Over18\n",
    "  )) %>%\n",
    "  mutate(OverTime = case_when(\n",
    "    OverTime == \"Yes\" ~ \"有加班\",\n",
    "    OverTime == \"No\" ~ \"无加班\",\n",
    "    TRUE ~ OverTime\n",
    "  )) %>%\n",
    "  mutate(Department = case_when(\n",
    "    Department == \"Research & Development\" ~ \"研发部门\",\n",
    "    Department == \"Sales\" ~ \"销售部门\",\n",
    "    Department == \"Human Resources\" ~ \"人力部门\",\n",
    "    TRUE ~ Department\n",
    "  )) %>%\n",
    "  mutate(JobRole = case_when(\n",
    "    JobRole == \"Sales Executive\" ~ \"销售主管\",\n",
    "    JobRole == \"Research Scientist\" ~ \"研究科学家\",\n",
    "    JobRole == \"Laboratory Technician\" ~ \"实验室技术员\",\n",
    "    JobRole == \"Manufacturing Director\" ~ \"制造总监\",\n",
    "    JobRole == \"Healthcare Representative\" ~ \"医疗代表\",\n",
    "    JobRole == \"Manager\" ~ \"经理\",\n",
    "    JobRole == \"Sales Representative\" ~ \"销售代表\",\n",
    "    JobRole == \"Research Director\" ~ \"研究总监\",\n",
    "    JobRole == \"Human Resources\" ~ \"人力资源\",\n",
    "    TRUE ~ JobRole\n",
    "  )) %>%\n",
    "  mutate(BusinessTravel = case_when(\n",
    "    BusinessTravel == \"Travel_Rarely\" ~ \"很少出差\",\n",
    "    BusinessTravel == \"Travel_Frequently\" ~ \"频繁出差\",\n",
    "    BusinessTravel == \"Non-Travel\" ~ \"从不出差\",\n",
    "    TRUE ~ BusinessTravel\n",
    "  )) %>%\n",
    "  mutate(EducationField = case_when(\n",
    "    EducationField == \"Life Sciences\" ~ \"生命科学\",\n",
    "    EducationField == \"Human Resources\" ~ \"人力资源\",\n",
    "    EducationField == \"Technical Degree\" ~ \"技术学位\",\n",
    "    EducationField == \"Marketing\" ~ \"市场营销\",\n",
    "    EducationField == \"Medical\" ~ \"医疗\",\n",
    "    EducationField == \"Other\" ~ \"其他\",\n",
    "    TRUE ~ EducationField\n",
    "  )) %>%\n",
    "  mutate(MaritalStatus = case_when(\n",
    "    MaritalStatus == \"Single\" ~ \"单身\",\n",
    "    MaritalStatus == \"Married\" ~ \"已婚\",\n",
    "    MaritalStatus == \"Divorced\" ~ \"离异\",\n",
    "    TRUE ~ MaritalStatus\n",
    "  ))\n",
    "df_zh %>% glimpse()\n",
    "\n",
    "# 重命名列名\n",
    "col_names <- c('年龄', '流失情况', '出差情况', '日薪', '所属部门', '公里离家距离', '教育水平', '教育领域', '员工数量（恒1）', '员工数量', '环境满意度', '性别', '小时薪', '工作投入度', '岗位级别', '岗位名称', '工作满意度', '婚姻状态', '月收入', '月费率', '在多少家公司工作过', '是否成年', '是否加班', '薪资增长百分比', '绩效评级', '人际关系满意度', '标准工作小时数', '股票期权级别', '总工作年数', '去年接受培训的次数', '工作与生活的平衡情况', '在当前公司的工作年数', '在当前职位的工作年数', '自上次升职以来的年数', '与当前经理合作的年数')\n",
    "df_zh <- rename(df_zh, !!!setNames(names(df_zh), col_names))\n",
    "df_zh %>% glimpse()"
   ]
  },
  {
   "cell_type": "code",
   "execution_count": null,
   "metadata": {
    "vscode": {
     "languageId": "r"
    }
   },
   "outputs": [],
   "source": [
    "# 创建副本\n",
    "original_df_zh <- df_zh"
   ]
  },
  {
   "cell_type": "markdown",
   "metadata": {},
   "source": [
    "## Prepare data for machine learning"
   ]
  },
  {
   "cell_type": "markdown",
   "metadata": {},
   "source": [
    "### Convert categorical type data to integer encoding"
   ]
  },
  {
   "cell_type": "code",
   "execution_count": null,
   "metadata": {
    "vscode": {
     "languageId": "r"
    }
   },
   "outputs": [],
   "source": [
    "df_train <- df %>%\n",
    "  mutate(Gender = ifelse(Gender == \"Male\", 1, ifelse(Gender == \"Female\", 0, Gender))) %>%\n",
    "  mutate(Attrition = ifelse(Attrition == \"Yes\", 0, ifelse(Attrition == \"No\", 1, Attrition))) %>%\n",
    "  mutate(Over18 = ifelse(Over18 == \"Y\", 1, Over18)) %>%\n",
    "  mutate(OverTime = ifelse(OverTime == \"Yes\", 1, ifelse(OverTime == \"No\", 0, OverTime))) %>%\n",
    "  mutate(Department = ifelse(Department == \"Research & Development\", 0,\n",
    "                             ifelse(Department == \"Sales\", 1,\n",
    "                                    ifelse(Department == \"Human Resources\", 2, Department)))) %>%\n",
    "  mutate(JobRole = ifelse(JobRole == \"Sales Executive\", 0,\n",
    "                          ifelse(JobRole == \"Research Scientist\", 1,\n",
    "                                 ifelse(JobRole == \"Laboratory Technician\", 2,\n",
    "                                        ifelse(JobRole == \"Manufacturing Director\", 3,\n",
    "                                               ifelse(JobRole == \"Healthcare Representative\", 4,\n",
    "                                                      ifelse(JobRole == \"Manager\", 5,\n",
    "                                                             ifelse(JobRole == \"Sales Representative\", 6,\n",
    "                                                                    ifelse(JobRole == \"Research Director\", 7,\n",
    "                                                                           ifelse(JobRole == \"Human Resources\", 8, JobRole)))))))))) %>%\n",
    "  mutate(BusinessTravel = ifelse(BusinessTravel == \"Travel_Rarely\", 1,\n",
    "                                 ifelse(BusinessTravel == \"Travel_Frequently\", 2,\n",
    "                                        ifelse(BusinessTravel == \"Non-Travel\", 0, BusinessTravel)))) %>%\n",
    "  mutate(EducationField = ifelse(EducationField == \"Life Sciences\", 0,\n",
    "                                 ifelse(EducationField == \"Human Resources\", 1,\n",
    "                                        ifelse(EducationField == \"Technical Degree\", 2,\n",
    "                                               ifelse(EducationField == \"Marketing\", 3,\n",
    "                                                      ifelse(EducationField == \"Medical\", 4,\n",
    "                                                             ifelse(EducationField == \"Other\", 5, EducationField))))))) %>%\n",
    "  mutate(MaritalStatus = ifelse(MaritalStatus == \"Single\", 0,\n",
    "                                ifelse(MaritalStatus == \"Married\", 1,\n",
    "                                       ifelse(MaritalStatus == \"Divorced\", 2, MaritalStatus))))\n",
    "\n",
    "df_train$Gender <- as.integer(df_train$Gender)\n",
    "df_train$Attrition <- as.integer(df_train$Attrition)\n",
    "df_train$Over18 <- as.integer(df_train$Over18)\n",
    "df_train$OverTime <- as.integer(df_train$OverTime)\n",
    "df_train$Department <- as.integer(df_train$Department)\n",
    "df_train$JobRole <- as.integer(df_train$JobRole)\n",
    "df_train$BusinessTravel <- as.integer(df_train$BusinessTravel)\n",
    "df_train$EducationField <- as.integer(df_train$EducationField)\n",
    "df_train$MaritalStatus <- as.integer(df_train$MaritalStatus)\n",
    "\n",
    "\n",
    "df_train %>% glimpse()"
   ]
  },
  {
   "cell_type": "markdown",
   "metadata": {},
   "source": [
    "### Delete constant columns"
   ]
  },
  {
   "cell_type": "code",
   "execution_count": null,
   "metadata": {
    "vscode": {
     "languageId": "r"
    }
   },
   "outputs": [],
   "source": [
    "df_train <- select(df_train, -'Over18')\n",
    "df_train <- select(df_train, -'StandardHours')\n",
    "df_train <- select(df_train, -'EmployeeCount')"
   ]
  },
  {
   "cell_type": "markdown",
   "metadata": {},
   "source": [
    "# Static"
   ]
  },
  {
   "cell_type": "code",
   "execution_count": null,
   "metadata": {
    "vscode": {
     "languageId": "r"
    }
   },
   "outputs": [],
   "source": [
    "red <- \"#a6dcc3\"\n",
    "darkred <- \"#df0017\"\n",
    "green <- \"#ffdac2\"\n",
    "yellow <- \"#fcffc0\"\n",
    "brown <- \"#fed097\"\n",
    "st_y <- \"员工数量\"\n",
    "st_y_per <- \"员工数量占比\"\n",
    "font <- \"serif\""
   ]
  },
  {
   "cell_type": "markdown",
   "metadata": {},
   "source": [
    "# Analyze basic factors\n",
    "1. Demographic characteristics(sex, age, marital status, educational level)\n",
    "2. Department and job role"
   ]
  },
  {
   "cell_type": "markdown",
   "metadata": {},
   "source": [
    "## Demographic characteristics\n",
    "Stacked Bar Charts and Percent Stacked Bar Charts"
   ]
  },
  {
   "cell_type": "markdown",
   "metadata": {},
   "source": [
    "### Sex -> Attrition"
   ]
  },
  {
   "cell_type": "code",
   "execution_count": null,
   "metadata": {
    "vscode": {
     "languageId": "r"
    }
   },
   "outputs": [],
   "source": [
    "options(repr.plot.width=6, repr.plot.height=4) \n",
    "\n",
    "p1_1 <- \n",
    "  df_zh %>%\n",
    "  select(性别, 流失情况) %>% \n",
    "  group_by(性别, 流失情况) %>% \n",
    "  summarize(n=n()) %>% \n",
    "    ggplot(aes(x=性别, y=n, fill = 流失情况)) +\n",
    "    geom_bar(stat=\"identity\", color=\"black\", size=.2, width=.6, position=\"stack\") +\n",
    "    geom_label(aes(label=n, y=n), \n",
    "               color = \"black\", family = font) +\n",
    "    theme_minimal() +\n",
    "    # 坐标轴标题\n",
    "    labs(y=st_y) +\n",
    "    # 填充颜色\n",
    "    scale_fill_manual(values=c(red, green))+\n",
    "    # 全图字体&字号\n",
    "    theme(text = element_text(family = font, size=11)) +\n",
    "    # 坐标轴外观\n",
    "    theme(\n",
    "      # 坐标轴标题距离其他元素间距&字号\n",
    "      axis.title.x = element_text(margin = margin(t = 10, r = 0, b = 0, l = 0), size=12), \n",
    "      axis.title.y = element_text(margin = margin(t = 0, r = 15, b = 0, l = 0), size=12),\n",
    "      # 坐标轴刻度字号\n",
    "      axis.text = element_text(size = 10)) \n",
    "p1_1"
   ]
  },
  {
   "cell_type": "code",
   "execution_count": null,
   "metadata": {
    "vscode": {
     "languageId": "r"
    }
   },
   "outputs": [],
   "source": [
    "options(repr.plot.width=6, repr.plot.height=4) \n",
    "\n",
    "p1_2 <- \n",
    "  df_zh %>%\n",
    "  select(性别, 流失情况) %>% \n",
    "  group_by(性别, 流失情况) %>% \n",
    "  summarize(n=n()) %>% \n",
    "  mutate(pct=round(prop.table(n),2) * 100) %>% arrange(desc(pct)) %>%\n",
    "    ggplot(aes(x=fct_reorder(性别,pct), y=pct, fill=流失情况, color=流失情况)) + \n",
    "    geom_bar(stat=\"identity\", color=\"black\", size=.2, width=.6, position=\"fill\") +\n",
    "    geom_label(aes(label=paste0(pct, \"%\"), fill = 流失情况), \n",
    "               color = \"black\", family = font, \n",
    "               position = position_fill(vjust = 0.5)) + \n",
    "    theme_minimal() +\n",
    "    # 坐标轴标题\n",
    "    labs(y=st_y_per, x=\"性别\") +\n",
    "    # 填充颜色\n",
    "    scale_fill_manual(values=c(red, green))+\n",
    "    # 全图字体&字号\n",
    "    theme(text = element_text(family = font, size=11)) +\n",
    "    # 坐标轴外观\n",
    "    theme(\n",
    "      # 坐标轴标题距离其他元素间距&字号\n",
    "      axis.title.x = element_text(margin = margin(t = 10, r = 0, b = 0, l = 0), size=12), \n",
    "      axis.title.y = element_text(margin = margin(t = 0, r = 15, b = 0, l = 0), size=12),\n",
    "      # 坐标轴刻度字号\n",
    "      axis.text = element_text(size = 10))\n",
    "p1_2"
   ]
  },
  {
   "cell_type": "markdown",
   "metadata": {},
   "source": [
    "### Age -> Attrition\n",
    "Devide age into 4 generations"
   ]
  },
  {
   "cell_type": "code",
   "execution_count": null,
   "metadata": {
    "vscode": {
     "languageId": "r"
    }
   },
   "outputs": [],
   "source": [
    "df_zh$代际 <- ifelse(df_zh$年龄<37,\"千禧一代\",\n",
    "ifelse(df_zh$年龄>=38 & df_zh$年龄<54,\"X世代\",\n",
    "ifelse(df_zh$年龄>=54 & df_zh$年龄<73,\"婴儿潮一代\",\n",
    "       \"沉默一代\"\n",
    ")))\n",
    "df_zh$代际"
   ]
  },
  {
   "cell_type": "code",
   "execution_count": null,
   "metadata": {
    "vscode": {
     "languageId": "r"
    }
   },
   "outputs": [],
   "source": [
    "options(repr.plot.width=6, repr.plot.height=4) \n",
    "\n",
    "p2_1 <- \n",
    "  df_zh %>%\n",
    "  select(代际, 流失情况) %>% \n",
    "  group_by(代际, 流失情况) %>% \n",
    "  summarize(n=n()) %>% \n",
    "  mutate(代际 = factor(代际, levels=c(\"千禧一代\", \"X世代\", \"婴儿潮一代\", \"沉默一代\"))) %>%\n",
    "    ggplot(aes(x=代际, y=n, fill = 流失情况)) +\n",
    "    geom_bar(stat=\"identity\", color=\"black\", size=.2, width=.6, position=\"stack\") +\n",
    "    geom_label(aes(label=n, y=n), \n",
    "               color = \"black\", family = font) +\n",
    "    theme_minimal() +\n",
    "    # 坐标轴标题\n",
    "    labs(y=st_y) +\n",
    "    # 填充颜色\n",
    "    scale_fill_manual(values=c(red, green))+\n",
    "    # 全图字体&字号\n",
    "    theme(text = element_text(family = font, size=11)) +\n",
    "    # 坐标轴外观\n",
    "    theme(\n",
    "      # 坐标轴标题距离其他元素间距&字号\n",
    "      axis.title.x = element_text(margin = margin(t = 10, r = 0, b = 0, l = 0), size=12), \n",
    "      axis.title.y = element_text(margin = margin(t = 0, r = 15, b = 0, l = 0), size=12),\n",
    "      # 坐标轴刻度字号\n",
    "      axis.text = element_text(size = 10)) \n",
    "p2_1"
   ]
  },
  {
   "cell_type": "code",
   "execution_count": null,
   "metadata": {
    "vscode": {
     "languageId": "r"
    }
   },
   "outputs": [],
   "source": [
    "options(repr.plot.width=6, repr.plot.height=4) \n",
    "\n",
    "p2_2 <- \n",
    "  df_zh %>%\n",
    "  select(代际, 流失情况) %>% \n",
    "  group_by(代际, 流失情况) %>% \n",
    "  summarize(n=n()) %>% \n",
    "  mutate(pct=round(prop.table(n),2) * 100) %>% arrange(desc(pct)) %>%\n",
    "  mutate(代际 = factor(代际, levels=c(\"千禧一代\", \"X世代\", \"婴儿潮一代\", \"沉默一代\"))) %>%\n",
    "    ggplot(aes(x=fct_reorder(代际,pct), y=pct, fill=流失情况, color=流失情况)) + \n",
    "    geom_bar(stat=\"identity\", color=\"black\", size=.2, width=0.6, position=\"fill\") +\n",
    "    geom_label(aes(label=paste0(pct, \"%\"), fill = 流失情况), \n",
    "               color = \"black\", family = font, \n",
    "               position = position_fill(vjust = 0.5)) + \n",
    "    theme_minimal() +\n",
    "    # 坐标轴标题\n",
    "    labs(y=st_y_per, x=\"代际\") +\n",
    "    # 填充颜色\n",
    "    scale_fill_manual(values=c(red, green))+\n",
    "    # 全图字体&字号\n",
    "    theme(text = element_text(family = font, size=11)) +\n",
    "    # 坐标轴外观\n",
    "    theme(\n",
    "      # 坐标轴标题距离其他元素间距&字号\n",
    "      axis.title.x = element_text(margin = margin(t = 10, r = 0, b = 0, l = 0), size=12), \n",
    "      axis.title.y = element_text(margin = margin(t = 0, r = 15, b = 0, l = 0), size=12),\n",
    "      # 坐标轴刻度字号\n",
    "      axis.text = element_text(size = 10))\n",
    "p2_2"
   ]
  },
  {
   "cell_type": "markdown",
   "metadata": {},
   "source": [
    "### Marital status -> Attrition"
   ]
  },
  {
   "cell_type": "code",
   "execution_count": null,
   "metadata": {
    "vscode": {
     "languageId": "r"
    }
   },
   "outputs": [],
   "source": [
    "options(repr.plot.width=6, repr.plot.height=4) \n",
    "\n",
    "p3_1 <- \n",
    "  df_zh %>%\n",
    "  select(婚姻状态, 流失情况) %>% \n",
    "  group_by(婚姻状态, 流失情况) %>% \n",
    "  summarize(n=n()) %>% \n",
    "  mutate(婚姻状态 = factor(婚姻状态, levels=c(\"已婚\", \"单身\", \"离异\"))) %>%\n",
    "    ggplot(aes(x=婚姻状态, y=n, fill = 流失情况)) +\n",
    "    geom_bar(stat=\"identity\", color=\"black\", size=.2, width=.6, position=\"stack\") +\n",
    "    geom_label(aes(label=n, y=n), \n",
    "               color = \"black\", family = font) +\n",
    "    theme_minimal() +\n",
    "    # 坐标轴标题\n",
    "    labs(y=st_y) +\n",
    "    # 填充颜色\n",
    "    scale_fill_manual(values=c(red, green))+\n",
    "    # 全图字体&字号\n",
    "    theme(text = element_text(family = font, size=11)) +\n",
    "    # 坐标轴外观\n",
    "    theme(\n",
    "      # 坐标轴标题距离其他元素间距&字号\n",
    "      axis.title.x = element_text(margin = margin(t = 10, r = 0, b = 0, l = 0), size=12), \n",
    "      axis.title.y = element_text(margin = margin(t = 0, r = 15, b = 0, l = 0), size=12),\n",
    "      # 坐标轴刻度字号\n",
    "      axis.text = element_text(size = 10)) \n",
    "p3_1"
   ]
  },
  {
   "cell_type": "code",
   "execution_count": null,
   "metadata": {
    "vscode": {
     "languageId": "r"
    }
   },
   "outputs": [],
   "source": [
    "options(repr.plot.width=6, repr.plot.height=4) \n",
    "\n",
    "p3_2 <- \n",
    "  df_zh %>%\n",
    "  select(婚姻状态, 流失情况) %>% \n",
    "  group_by(婚姻状态, 流失情况) %>% \n",
    "  summarize(n=n()) %>% \n",
    "  mutate(pct=round(prop.table(n),2) * 100) %>% arrange(desc(pct)) %>%\n",
    "  mutate(婚姻状态 = factor(婚姻状态, levels=c(\"已婚\", \"单身\", \"离异\"))) %>%\n",
    "    ggplot(aes(x=fct_reorder(婚姻状态,pct), y=pct, fill=流失情况, color=流失情况)) + \n",
    "    geom_bar(stat=\"identity\", color=\"black\", size=.2, width=0.6, position=\"fill\") +\n",
    "    geom_label(aes(label=paste0(pct, \"%\"), fill = 流失情况), \n",
    "               color = \"black\", family = font, \n",
    "               position = position_fill(vjust = 0.5)) + \n",
    "    theme_minimal() +\n",
    "    # 坐标轴标题\n",
    "    labs(y=st_y_per, x=\"婚姻状态\") +\n",
    "    # 填充颜色\n",
    "    scale_fill_manual(values=c(red, green))+\n",
    "    # 全图字体&字号\n",
    "    theme(text = element_text(family = font, size=11)) +\n",
    "    # 坐标轴外观\n",
    "    theme(\n",
    "      # 坐标轴标题距离其他元素间距&字号\n",
    "      axis.title.x = element_text(margin = margin(t = 10, r = 0, b = 0, l = 0), size=12), \n",
    "      axis.title.y = element_text(margin = margin(t = 0, r = 15, b = 0, l = 0), size=12),\n",
    "      # 坐标轴刻度字号\n",
    "      axis.text = element_text(size = 10))\n",
    "p3_2"
   ]
  },
  {
   "cell_type": "markdown",
   "metadata": {},
   "source": [
    "### Educational level -> Attrition"
   ]
  },
  {
   "cell_type": "code",
   "execution_count": null,
   "metadata": {
    "vscode": {
     "languageId": "r"
    }
   },
   "outputs": [],
   "source": [
    "df_zh$教育水平_文字 <- \n",
    "ifelse(df_zh$教育水平 == 1, \"本科以下学历\",\n",
    "ifelse(df_zh$教育水平 == 2, \"本科学历\",\n",
    "ifelse(df_zh$教育水平 == 3, \"学士学位\",\n",
    "ifelse(df_zh$教育水平 == 4, \"硕士学位\", \n",
    "       \"博士学位\"))))\n",
    "unique(df_zh$教育水平_文字)\n",
    "\n",
    "options(repr.plot.width=6, repr.plot.height=4) \n"
   ]
  },
  {
   "cell_type": "code",
   "execution_count": null,
   "metadata": {
    "vscode": {
     "languageId": "r"
    }
   },
   "outputs": [],
   "source": [
    "p4_1 <- \n",
    "  df_zh %>%\n",
    "  select(教育水平_文字, 流失情况) %>% \n",
    "  group_by(教育水平_文字, 流失情况) %>% \n",
    "  summarize(n=n()) %>% \n",
    "  mutate(教育水平_文字 = factor(教育水平_文字, levels=c(\"学士学位\", \"硕士学位\", \"本科学历\", \"本科以下学历\", \"博士学位\"))) %>%\n",
    "    ggplot(aes(x=教育水平_文字, y=n, fill = 流失情况)) +\n",
    "    geom_bar(stat=\"identity\", color=\"black\", size=.2, width=.6, position=\"stack\") +\n",
    "    geom_label(aes(label=n, y=n), \n",
    "               color = \"black\", family = font) +\n",
    "    theme_minimal() +\n",
    "    # 坐标轴标题\n",
    "    labs(y=st_y, x=\"教育水平\") +\n",
    "    # 填充颜色\n",
    "    scale_fill_manual(values=c(red, green))+\n",
    "    # 全图字体&字号\n",
    "    theme(text = element_text(family = font, size=11)) +\n",
    "    # 坐标轴外观\n",
    "    theme(\n",
    "      # 坐标轴标题距离其他元素间距&字号\n",
    "      axis.title.x = element_text(margin = margin(t = 10, r = 0, b = 0, l = 0), size=12), \n",
    "      axis.title.y = element_text(margin = margin(t = 0, r = 15, b = 0, l = 0), size=12),\n",
    "      # 坐标轴刻度字号\n",
    "      axis.text = element_text(size = 10)) \n",
    "p4_1"
   ]
  },
  {
   "cell_type": "code",
   "execution_count": null,
   "metadata": {
    "vscode": {
     "languageId": "r"
    }
   },
   "outputs": [],
   "source": [
    "options(repr.plot.width=6, repr.plot.height=4) \n",
    "\n",
    "p4_2 <- \n",
    "  df_zh %>%\n",
    "  select(教育水平_文字, 流失情况) %>% \n",
    "  group_by(教育水平_文字, 流失情况) %>% \n",
    "  summarize(n=n()) %>% \n",
    "  mutate(pct=round(prop.table(n),2) * 100) %>% arrange(desc(pct)) %>%\n",
    "  mutate(教育水平_文字 = factor(教育水平_文字, levels=c(\"学士学位\", \"硕士学位\", \"本科学历\", \"本科以下学历\", \"博士学位\"))) %>%\n",
    "    ggplot(aes(x=fct_reorder(教育水平_文字,pct), y=pct, fill=流失情况, color=流失情况)) + \n",
    "    geom_bar(stat=\"identity\", color=\"black\", size=.2, width=0.6, position=\"fill\") +\n",
    "    geom_label(aes(label=paste0(pct, \"%\"), fill = 流失情况), \n",
    "               color = \"black\", family = font, \n",
    "               position = position_fill(vjust = 0.5)) + \n",
    "    theme_minimal() +\n",
    "    # 坐标轴标题\n",
    "    labs(y=st_y_per, x=\"教育水平\") +\n",
    "    # 填充颜色\n",
    "    scale_fill_manual(values=c(red, green))+\n",
    "    # 全图字体&字号\n",
    "    theme(text = element_text(family = font, size=11)) +\n",
    "    # 坐标轴外观\n",
    "    theme(\n",
    "      # 坐标轴标题距离其他元素间距&字号\n",
    "      axis.title.x = element_text(margin = margin(t = 10, r = 0, b = 0, l = 0), size=12), \n",
    "      axis.title.y = element_text(margin = margin(t = 0, r = 15, b = 0, l = 0), size=12),\n",
    "      # 坐标轴刻度字号\n",
    "      axis.text = element_text(size = 10))\n",
    "p4_2"
   ]
  },
  {
   "cell_type": "code",
   "execution_count": null,
   "metadata": {
    "vscode": {
     "languageId": "r"
    }
   },
   "outputs": [],
   "source": [
    "options(repr.plot.width=8, repr.plot.height=20) \n",
    "\n",
    "library(Cairo)\n",
    "CairoPNG(file=\"01-人口特征.png\", width=12, height=13, units = \"in\", res = 300)\n",
    "\n",
    "library(cowplot)\n",
    "plot_grid(p1_1, p1_2, p2_1, p2_2, p3_1, p3_2, p4_1, p4_2, ncol=2, nrow=4)\n",
    "\n",
    "dev.off()"
   ]
  },
  {
   "cell_type": "markdown",
   "metadata": {},
   "source": [
    "## Department and job role\n",
    "Pyramid scheme"
   ]
  },
  {
   "cell_type": "markdown",
   "metadata": {},
   "source": [
    "### Department -> Attrition"
   ]
  },
  {
   "cell_type": "code",
   "execution_count": null,
   "metadata": {
    "vscode": {
     "languageId": "r"
    }
   },
   "outputs": [],
   "source": [
    "options(repr.plot.width=10, repr.plot.height=4) \n",
    "\n",
    "attr.dep <- df_zh %>% \n",
    "select(所属部门, 流失情况) %>% \n",
    "group_by(所属部门, 流失情况) %>% \n",
    "summarize(amount=n()) %>%\n",
    "mutate(pct=round(prop.table(amount),2) * 100) %>% \n",
    "arrange(pct)\n",
    "\n",
    "nofunc <- colorRampPalette(c(\"#A9F5A9\", \"#58FA58\", \"#01DF01\"))\n",
    "yesfunc <- colorRampPalette(c(\"#F5A9A9\", \"#FE2E2E\", \"#B40404\"))\n",
    "\n",
    "yes.attr <- attr.dep %>% \n",
    "filter(流失情况 == \"已流失\") %>% \n",
    "arrange(所属部门) \n",
    "\n",
    "no.attr <- attr.dep %>% \n",
    "filter(流失情况 == \"未流失\") %>% \n",
    "arrange(所属部门)\n",
    "\n",
    "library(Cairo)\n",
    "CairoPNG(file=\"04-部门.png\", width=8, height=4, units = \"in\", res = 300)\n",
    "\n",
    "library(plotrix)\n",
    "# 使用par指定字体、线粗等\n",
    "par(family = font, lwd=0.5)\n",
    "par(mar = pyramid.plot(no.attr$pct, yes.attr$pct, \n",
    "                       labels = unique(attr.dep$所属部门),\n",
    "                       top.labels=c(\"未流失\",\"\",\"已流失\"),\n",
    "                       gap=30, show.values = T, \n",
    "                       rxcol = yesfunc(9), lxcol = nofunc(9)))\n",
    "dev.off()"
   ]
  },
  {
   "cell_type": "markdown",
   "metadata": {},
   "source": [
    "### Job role -> Attrition"
   ]
  },
  {
   "cell_type": "code",
   "execution_count": null,
   "metadata": {
    "vscode": {
     "languageId": "r"
    }
   },
   "outputs": [],
   "source": [
    "options(repr.plot.width=10, repr.plot.height=6) \n",
    "\n",
    "attr.job <- df_zh %>% \n",
    "select(岗位名称, 流失情况) %>% \n",
    "group_by(岗位名称, 流失情况) %>% \n",
    "summarize(amount=n()) %>%\n",
    "mutate(pct=round(prop.table(amount),2) * 100) %>% \n",
    "arrange(pct)\n",
    "\n",
    "nofunc <- colorRampPalette(c(\"#A9F5A9\", \"#58FA58\", \"#01DF01\"))\n",
    "yesfunc <- colorRampPalette(c(\"#F5A9A9\", \"#FE2E2E\", \"#B40404\"))\n",
    "\n",
    "yes.attr <- attr.job %>% \n",
    "filter(流失情况 == \"已流失\") %>% \n",
    "arrange(岗位名称) \n",
    "\n",
    "no.attr <- attr.job %>% \n",
    "filter(流失情况 == \"未流失\") %>% \n",
    "arrange(岗位名称)\n",
    "\n",
    "library(Cairo)\n",
    "CairoPNG(file=\"06-岗位.png\", width=8, height=4, units = \"in\", res = 300)\n",
    "\n",
    "library(plotrix)\n",
    "# 使用par指定字体、线粗等\n",
    "par(family = font, lwd=0.5)\n",
    "par(mar = pyramid.plot(no.attr$pct, yes.attr$pct, \n",
    "                       labels = unique(attr.job$岗位名称),\n",
    "                       top.labels=c(\"未流失\",\"\",\"已流失\"),\n",
    "                       gap=30, show.values = T, \n",
    "                       rxcol = yesfunc(9), lxcol = nofunc(9)))\n",
    "dev.off()"
   ]
  },
  {
   "cell_type": "markdown",
   "metadata": {},
   "source": [
    "#  Ranking of feature importance\n",
    "1. Decision Tree\n",
    "2. H2O AutoML"
   ]
  },
  {
   "cell_type": "markdown",
   "metadata": {},
   "source": [
    "## Decision Tree"
   ]
  },
  {
   "cell_type": "code",
   "execution_count": null,
   "metadata": {
    "vscode": {
     "languageId": "r"
    }
   },
   "outputs": [],
   "source": [
    "set.seed(142)\n",
    "# I personally prefer to shuffle my data before splitting.\n",
    "df_zh <- df_zh[sample(nrow(df_zh)),]\n",
    "\n",
    "# Let's encode the ordinal variables\n",
    "df_zh$出差情况 = factor(df_zh$出差情况,\n",
    "                         levels = c('频繁出差', '很少出差', '从不出差'),\n",
    "                         labels = c(1, 2, 3))\n",
    "\n",
    "# Changing the datatype from integer to factors from the ordinal variables.\n",
    "cols <- c(\"教育水平\", \"环境满意度\", \"工作投入度\", \"岗位级别\",\n",
    "         \"工作满意度\", \"绩效评级\", \"人际关系满意度\", \n",
    "         \"股票期权级别\", \"去年接受培训的次数\", \"工作与生活的平衡情况\")\n",
    "\n",
    "df_zh[cols] <- lapply(df_zh[cols], factor)\n",
    "\n",
    "library(caret)\n",
    "# Splitting our data\n",
    "trainIndex <- createDataPartition(df_zh$流失情况, p=0.8, list=FALSE, times=1)\n",
    "\n",
    "train <- df_zh[trainIndex,]\n",
    "test <- df_zh[-trainIndex,]"
   ]
  },
  {
   "cell_type": "code",
   "execution_count": null,
   "metadata": {
    "vscode": {
     "languageId": "r"
    }
   },
   "outputs": [],
   "source": [
    "# Checking that both the training and testing sets have the same label proportions.\n",
    "prop_train <- train %>% select(流失情况) %>% group_by(流失情况) %>% summarize(n=n()) %>%\n",
    "mutate(pct=round(prop.table(n), 2))\n",
    "\n",
    "prop_test <- test %>% select(流失情况) %>% group_by(流失情况) %>% summarize(n=n()) %>%\n",
    "mutate(pct=round(prop.table(n), 2))\n",
    "\n",
    "prop_train\n",
    "prop_test"
   ]
  },
  {
   "cell_type": "code",
   "execution_count": null,
   "metadata": {
    "vscode": {
     "languageId": "r"
    }
   },
   "outputs": [],
   "source": [
    "options(repr.plot.width=15, repr.plot.height=10) \n",
    "\n",
    "library(rpart) \n",
    "\n",
    "# 构建了一个决策树模型\n",
    "tree <- rpart(流失情况 ~ ., data=train)\n",
    "\n",
    "library(visNetwork)\n",
    "\n",
    "visTree(tree,height = \"800px\",\n",
    "        colorY = c(\"green\",\"red\",\"blue\"))\n",
    "\n",
    "# Complicated DecisionTree, Is there a way to determine variable importance?\n",
    "var_imp <- data.frame(tree$variable.importance)\n",
    "var_imp$features <- rownames(var_imp)\n",
    "var_imp <- var_imp[, c(2, 1)]\n",
    "var_imp$importance <- round(var_imp$tree.variable.importance, 2)\n",
    "var_imp$tree.variable.importance <- NULL\n",
    "\n",
    "library(RColorBrewer)\n",
    "\n",
    "colorCount <- length(unique(var_imp$features))\n",
    "feature_importance <- var_imp %>%\n",
    "ggplot(aes(x=reorder(features, importance), y=importance, fill=features)) + \n",
    "geom_bar(stat='identity', color=\"black\", size=0.2) + \n",
    "coord_flip() + \n",
    "scale_fill_manual(values = colorRampPalette(brewer.pal(24, \"Pastel1\"))(colorCount)) + \n",
    "theme_minimal() +\n",
    "theme(# 全图字体&字号\n",
    "      text = element_text(family = font, size=11),\n",
    "      # 不显示图例\n",
    "      legend.position=\"none\", \n",
    "      # 坐标轴标题距离其他元素间距&字号\n",
    "      axis.title.x = element_text(margin = margin(t = 10, r = 0, b = 0, l = 0), size=12), \n",
    "      axis.title.y = element_text(margin = margin(t = 0, r = 15, b = 0, l = 0), size=12),\n",
    "      # 坐标轴刻度字号\n",
    "      axis.text = element_text(size = 10)) + \n",
    "geom_label(aes(label=paste0(importance, \"%\")), color = \"black\", family = font) + \n",
    "labs(x=\"特征\", y=\"重要性\")\n",
    "\n",
    "library(Cairo)\n",
    "CairoPNG(file=\"19-特征重要性.png\", width=10, height=8, units = \"in\", res = 300)\n",
    "feature_importance\n",
    "dev.off()"
   ]
  },
  {
   "cell_type": "code",
   "execution_count": null,
   "metadata": {
    "vscode": {
     "languageId": "r"
    }
   },
   "outputs": [],
   "source": [
    "options(repr.plot.width=8, repr.plot.height=6) \n",
    "\n",
    "predictions <- predict(tree, test, type=\"class\")\n",
    "conf_df <- data.frame(table(test$流失情况, predictions))\n",
    "\n",
    "library(Cairo)\n",
    "CairoPNG(file=\"20-混淆矩阵.png\", width=4, height=4, units = \"in\", res = 300)\n",
    "\n",
    "ggplot(data =  conf_df, mapping = aes(x = predictions, y = Var1)) +\n",
    "geom_tile(aes(fill = Freq)) +\n",
    "geom_text(aes(label = sprintf(\"%1.0f\", Freq)), vjust = 1, family = \"serif\", size=6) +\n",
    "scale_fill_gradient(low = \"#fcf4ed\", high = \"#f47b2a\") +\n",
    "theme_minimal() +\n",
    "theme(# 全图字体&字号\n",
    "      text = element_text(family = \"serif\", size=11),\n",
    "      # 坐标轴标题距离其他元素间距&字号\n",
    "      axis.title.x = element_text(margin = margin(t = 10, r = 0, b = 0, l = 0), size=12), \n",
    "      axis.title.y = element_text(margin = margin(t = 0, r = 15, b = 0, l = 0), size=12),\n",
    "      # 坐标轴刻度字号\n",
    "      axis.text = element_text(size = 10)) + \n",
    "labs(y=\"流失情况\", x=\"预测\", fill=\"频率\")\n",
    "\n",
    "dev.off()"
   ]
  },
  {
   "cell_type": "code",
   "execution_count": null,
   "metadata": {
    "vscode": {
     "languageId": "r"
    }
   },
   "outputs": [],
   "source": [
    "prune.tree <- prune(tree, cp=0.02) # pruning the tree\n",
    "\n",
    "visTree(prune.tree,height = \"600px\",\n",
    "        colorY = c(\"green\",\"red\",\"blue\"))\n",
    "\n",
    "library(partykit)\n",
    "\n",
    "rparty.tree <- as.party(tree)\n",
    "rparty.tree"
   ]
  },
  {
   "cell_type": "markdown",
   "metadata": {},
   "source": [
    "## H2O AutoML"
   ]
  },
  {
   "cell_type": "code",
   "execution_count": null,
   "metadata": {
    "vscode": {
     "languageId": "r"
    }
   },
   "outputs": [],
   "source": [
    "library(h2o)\n",
    "\n",
    "# 启动模型\n",
    "h2o.init()\n",
    "\n",
    "# 将数据框改成h2o格式\n",
    "h2o_df <- as.h2o(df_train)\n",
    "\n",
    "# 拆分训练集、测试集、验证集\n",
    "split_df <- h2o.splitFrame(h2o_df, c(0.7, 0.15), seed=12)\n",
    "h2o_train <- h2o.assign(split_df[[1]], \"train\")\n",
    "h2o_validation <- h2o.assign(split_df[[2]], \"validation\")\n",
    "h2o_test <- h2o.assign(split_df[[2]], \"test\")\n",
    "\n",
    "h2o.describe(h2o_train)"
   ]
  },
  {
   "cell_type": "code",
   "execution_count": null,
   "metadata": {
    "vscode": {
     "languageId": "r"
    }
   },
   "outputs": [],
   "source": [
    "# Establish X and Y (Features and Labels)\n",
    "y <- \"Attrition\"\n",
    "x <- setdiff(names(h2o_train), y)\n",
    "\n",
    "auto_ml <- h2o.automl(\n",
    "    # 指定目标变量\n",
    "    y = y,\n",
    "    # 指定特征变量\n",
    "    x = x,\n",
    "    # 指定用于训练的数据集\n",
    "    training_frame = h2o_train,\n",
    "    # 指定用于生成排行榜的数据集\n",
    "    leaderboard_frame = h2o_validation,\n",
    "    project_name = \"Attribution\",\n",
    "    max_models = 10,\n",
    "    seed = 12\n",
    ")\n",
    "\n",
    "# Check for the top models\n",
    "top_models <- auto_ml@leaderboard\n",
    "print(top_models)"
   ]
  },
  {
   "cell_type": "code",
   "execution_count": null,
   "metadata": {
    "vscode": {
     "languageId": "r"
    }
   },
   "outputs": [],
   "source": [
    "# Get the best model\n",
    "# Our aim is to determine the feature importance\n",
    "model_id <- as.data.frame(top_models$model_id)[,1]\n",
    "best_family <- h2o.getModel(grep(\"StackedEnsemble_BestOfFamily\", model_id, value=TRUE)[1])\n",
    "obtain_model <- h2o.getModel(best_family@model$metalearner$name)"
   ]
  },
  {
   "cell_type": "code",
   "execution_count": null,
   "metadata": {
    "vscode": {
     "languageId": "r"
    }
   },
   "outputs": [],
   "source": [
    "# How important is each model to the StackEnsemble\n",
    "h2o.varimp(obtain_model)"
   ]
  },
  {
   "cell_type": "code",
   "execution_count": null,
   "metadata": {
    "vscode": {
     "languageId": "r"
    }
   },
   "outputs": [],
   "source": [
    "options(repr.plot.width=8, repr.plot.height=4) \n",
    "\n",
    "library(Cairo)\n",
    "CairoPNG(file=\"21-变量重要性：GLM.png\", width=8, height=4, units = \"in\", res = 300)\n",
    "\n",
    "par(family=font)\n",
    "h2o.varimp_plot(obtain_model)\n",
    "\n",
    "dev.off()"
   ]
  },
  {
   "cell_type": "code",
   "execution_count": null,
   "metadata": {
    "vscode": {
     "languageId": "r"
    }
   },
   "outputs": [],
   "source": [
    "xgb <- h2o.getModel(grep(\"DeepLearning\", model_id, value = TRUE)[1])\n",
    "\n",
    "# Examine the variable importance of the top XGBoost model\n",
    "# XGBoost can show the feature importance as oppose to the stack ensemble\n",
    "h2o.varimp(xgb)\n",
    "\n",
    "# We can also plot the base learner contributions to the ensemble.\n",
    "library(Cairo)\n",
    "CairoPNG(file=\"22-变量重要性：DeepLearning.png\", width=8, height=4, units = \"in\", res = 300)\n",
    "\n",
    "par(family=font)\n",
    "h2o.varimp_plot(xgb)\n",
    "\n",
    "dev.off()"
   ]
  },
  {
   "cell_type": "code",
   "execution_count": null,
   "metadata": {
    "vscode": {
     "languageId": "r"
    }
   },
   "outputs": [],
   "source": [
    "xgb <- h2o.getModel(grep(\"GBM\", model_id, value = TRUE)[1])\n",
    "\n",
    "# Examine the variable importance of the top XGBoost model\n",
    "# XGBoost can show the feature importance as oppose to the stack ensemble\n",
    "h2o.varimp(xgb)\n",
    "\n",
    "# We can also plot the base learner contributions to the ensemble.\n",
    "library(Cairo)\n",
    "CairoPNG(file=\"23-变量重要性：GBM.png\", width=8, height=4, units = \"in\", res = 300)\n",
    "\n",
    "par(family=font)\n",
    "h2o.varimp_plot(xgb)\n",
    "\n",
    "dev.off()"
   ]
  },
  {
   "cell_type": "code",
   "execution_count": null,
   "metadata": {
    "vscode": {
     "languageId": "r"
    }
   },
   "outputs": [],
   "source": [
    "xgb <- h2o.getModel(grep(\"DRF\", model_id, value = TRUE)[1])\n",
    "\n",
    "# Examine the variable importance of the top XGBoost model\n",
    "# XGBoost can show the feature importance as oppose to the stack ensemble\n",
    "h2o.varimp(xgb)\n",
    "\n",
    "# We can also plot the base learner contributions to the ensemble.\n",
    "library(Cairo)\n",
    "CairoPNG(file=\"24-变量重要性：DRF.png\", width=8, height=4, units = \"in\", res = 300)\n",
    "\n",
    "par(family=font)\n",
    "h2o.varimp_plot(xgb)\n",
    "\n",
    "dev.off()"
   ]
  },
  {
   "cell_type": "code",
   "execution_count": null,
   "metadata": {
    "vscode": {
     "languageId": "r"
    }
   },
   "outputs": [],
   "source": [
    "xgb <- h2o.getModel(grep(\"GLM\", model_id, value = TRUE)[1])\n",
    "\n",
    "# Examine the variable importance of the top XGBoost model\n",
    "# XGBoost can show the feature importance as oppose to the stack ensemble\n",
    "h2o.varimp(xgb)\n",
    "\n",
    "# We can also plot the base learner contributions to the ensemble.\n",
    "library(Cairo)\n",
    "CairoPNG(file=\"GLM.png\", width=8, height=4, units = \"in\", res = 300)\n",
    "\n",
    "par(family=font)\n",
    "h2o.varimp_plot(xgb)\n",
    "\n",
    "dev.off()"
   ]
  },
  {
   "cell_type": "markdown",
   "metadata": {},
   "source": [
    "# Analyze important factors\n",
    "1. Important factors -> Attrition\n",
    "2. Basic factors -> Important factors\n",
    "3. Correlation coefficient analysis"
   ]
  },
  {
   "cell_type": "markdown",
   "metadata": {},
   "source": [
    "## Important factors -> Attrition\n",
    "1. Overtime work\n",
    "2. Monthly income"
   ]
  },
  {
   "cell_type": "markdown",
   "metadata": {},
   "source": [
    "### Overtime work -> Attrition"
   ]
  },
  {
   "cell_type": "code",
   "execution_count": null,
   "metadata": {
    "vscode": {
     "languageId": "r"
    }
   },
   "outputs": [],
   "source": [
    "options(repr.plot.width=6, repr.plot.height=4) \n",
    "\n",
    "p1_1 <- \n",
    "  df_zh %>%\n",
    "  select(是否加班, 流失情况) %>% \n",
    "  group_by(是否加班, 流失情况) %>% \n",
    "  summarize(n=n()) %>% \n",
    "    ggplot(aes(x=是否加班, y=n, fill = 流失情况)) +\n",
    "    geom_bar(stat=\"identity\", color=\"black\", size=.2, width=.6, position=\"stack\") +\n",
    "    geom_label(aes(label=n, y=n), \n",
    "               color = \"black\", family = font) +\n",
    "    theme_minimal() +\n",
    "    # 坐标轴标题\n",
    "    labs(y=st_y) +\n",
    "    # 填充颜色\n",
    "    scale_fill_manual(values=c(red, green))+\n",
    "    # 全图字体&字号\n",
    "    theme(text = element_text(family = font, size=11)) +\n",
    "    # 坐标轴外观\n",
    "    theme(\n",
    "      # 坐标轴标题距离其他元素间距&字号\n",
    "      axis.title.x = element_text(margin = margin(t = 10, r = 0, b = 0, l = 0), size=12), \n",
    "      axis.title.y = element_text(margin = margin(t = 0, r = 15, b = 0, l = 0), size=12),\n",
    "      # 坐标轴刻度字号\n",
    "      axis.text = element_text(size = 10)) +\n",
    "    # 不显示图例\n",
    "    theme(legend.position=\"none\")\n",
    "p1_1"
   ]
  },
  {
   "cell_type": "code",
   "execution_count": null,
   "metadata": {
    "vscode": {
     "languageId": "r"
    }
   },
   "outputs": [],
   "source": [
    "options(repr.plot.width=6, repr.plot.height=4) \n",
    "\n",
    "p1_2 <- \n",
    "  df_zh %>%\n",
    "  select(是否加班, 流失情况) %>% \n",
    "  group_by(是否加班, 流失情况) %>% \n",
    "  summarize(n=n()) %>% \n",
    "  mutate(pct=round(prop.table(n),2) * 100) %>% arrange(desc(pct)) %>%\n",
    "    ggplot(aes(x=fct_reorder(是否加班,pct), y=pct, fill=流失情况, color=流失情况)) + \n",
    "    geom_bar(stat=\"identity\", color=\"black\", size=.2, width=.6, position=\"fill\") +\n",
    "    geom_label(aes(label=paste0(pct, \"%\"), fill = 流失情况), \n",
    "               color = \"black\", family = font, \n",
    "               position = position_fill(vjust = 0.5)) + \n",
    "    theme_minimal() +\n",
    "    # 坐标轴标题\n",
    "    labs(y=st_y_per, x=\"是否加班\") +\n",
    "    # 填充颜色\n",
    "    scale_fill_manual(values=c(red, green))+\n",
    "    # 全图字体&字号\n",
    "    theme(text = element_text(family = font, size=11)) +\n",
    "    # 坐标轴外观\n",
    "    theme(\n",
    "      # 坐标轴标题距离其他元素间距&字号\n",
    "      axis.title.x = element_text(margin = margin(t = 10, r = 0, b = 0, l = 0), size=12), \n",
    "      axis.title.y = element_text(margin = margin(t = 0, r = 15, b = 0, l = 0), size=12),\n",
    "      # 坐标轴刻度字号\n",
    "      axis.text = element_text(size = 10))\n",
    "p1_2"
   ]
  },
  {
   "cell_type": "code",
   "execution_count": null,
   "metadata": {
    "vscode": {
     "languageId": "r"
    }
   },
   "outputs": [],
   "source": [
    "options(repr.plot.width=8, repr.plot.height=4) \n",
    "\n",
    "library(Cairo)\n",
    "CairoPNG(file=\"08-加班.png\", width=8, height=4, units = \"in\", res = 300)\n",
    "\n",
    "library(cowplot)\n",
    "plot_grid(p1_1, p1_2, ncol=2)\n",
    "\n",
    "dev.off()"
   ]
  },
  {
   "cell_type": "markdown",
   "metadata": {},
   "source": [
    "### Monthly income -> Attrition"
   ]
  },
  {
   "cell_type": "code",
   "execution_count": null,
   "metadata": {
    "vscode": {
     "languageId": "r"
    }
   },
   "outputs": [],
   "source": [
    "options(repr.plot.width=6, repr.plot.height=4) \n",
    "\n",
    "p1 <- \n",
    "  df_zh %>%\n",
    "    ggplot(aes(x = 月收入, fill = 流失情况, group = 流失情况)) +\n",
    "    geom_density(alpha=.6, size=.3, position=\"fill\") +\n",
    "    theme_minimal() +\n",
    "    # 坐标轴标题\n",
    "    labs(y=st_y_per) +\n",
    "    # 填充颜色\n",
    "    scale_fill_manual(values=c(red, green))+\n",
    "    # 全图字体&字号\n",
    "    theme(text = element_text(family = font, size=11)) +\n",
    "    # 坐标轴外观\n",
    "    theme(\n",
    "      # 坐标轴标题距离其他元素间距&字号\n",
    "      axis.title.x = element_text(margin = margin(t = 10, r = 0, b = 0, l = 0), size=12), \n",
    "      axis.title.y = element_text(margin = margin(t = 0, r = 15, b = 0, l = 0), size=12),\n",
    "      # 坐标轴刻度字号\n",
    "      axis.text = element_text(size = 10)) \n",
    "\n",
    "library(Cairo)\n",
    "CairoPNG(file=\"02-月收入.png\", width=6, height=4, units = \"in\", res = 300)\n",
    "p1\n",
    "dev.off()"
   ]
  },
  {
   "cell_type": "markdown",
   "metadata": {},
   "source": [
    "## Basic factors -> Important factors\n",
    "1. Demographic characteristics\n",
    "2. Department and job role"
   ]
  },
  {
   "cell_type": "markdown",
   "metadata": {},
   "source": [
    "### Demographic characteristics -> Overtime work"
   ]
  },
  {
   "cell_type": "code",
   "execution_count": null,
   "metadata": {
    "vscode": {
     "languageId": "r"
    }
   },
   "outputs": [],
   "source": [
    "options(repr.plot.width=6, repr.plot.height=4) \n",
    "\n",
    "p1 <- \n",
    "  df_zh %>%\n",
    "  select(性别, 是否加班) %>% \n",
    "  group_by(性别, 是否加班) %>% \n",
    "  summarize(n=n()) %>% \n",
    "  mutate(pct=round(prop.table(n),2) * 100) %>% \n",
    "  arrange(desc(pct)) %>%\n",
    "    ggplot(aes(x=fct_reorder(性别,pct), y=pct, fill=是否加班, color=是否加班)) + \n",
    "    geom_bar(stat=\"identity\", color=\"black\", size=.1, width=.6, position=\"fill\") +\n",
    "    geom_label(aes(label=paste0(pct, \"%\"), fill = 是否加班), \n",
    "               color = \"black\", family = font, \n",
    "               position = position_fill(vjust = 0.5)) + \n",
    "    coord_flip() +\n",
    "    theme_minimal() +\n",
    "    # 坐标轴标题\n",
    "    labs(y=st_y_per, x=\"性别\") +\n",
    "    # 填充颜色\n",
    "    scale_fill_manual(values=c(yellow, brown))+\n",
    "    # 全图字体&字号\n",
    "    theme(text = element_text(family = font, size=11)) +\n",
    "    # 坐标轴外观\n",
    "    theme(\n",
    "      # 坐标轴标题距离其他元素间距&字号\n",
    "      axis.title.x = element_text(margin = margin(t = 10, r = 0, b = 0, l = 0), size=12), \n",
    "      axis.title.y = element_text(margin = margin(t = 0, r = 15, b = 0, l = 0), size=12),\n",
    "      # 坐标轴刻度字号\n",
    "      axis.text = element_text(size = 10)) +\n",
    "    # 不显示图例\n",
    "    theme(legend.position=\"none\")\n",
    "p1\n"
   ]
  },
  {
   "cell_type": "code",
   "execution_count": null,
   "metadata": {
    "vscode": {
     "languageId": "r"
    }
   },
   "outputs": [],
   "source": [
    "options(repr.plot.width=6, repr.plot.height=4) \n",
    "\n",
    "p2 <- \n",
    "  df_zh %>%\n",
    "  select(代际, 是否加班) %>% \n",
    "  group_by(代际, 是否加班) %>% \n",
    "  summarize(n=n()) %>% \n",
    "  mutate(pct=round(prop.table(n),2) * 100) %>% \n",
    "  arrange(desc(pct)) %>%\n",
    "    ggplot(aes(x=fct_reorder(代际,pct), y=pct, fill=是否加班, color=是否加班)) + \n",
    "    geom_bar(stat=\"identity\", color=\"black\", size=.1, width=.6, position=\"fill\") +\n",
    "    geom_label(aes(label=paste0(pct, \"%\"), fill = 是否加班), \n",
    "               color = \"black\", family = font, \n",
    "               position = position_fill(vjust = 0.5)) + \n",
    "    coord_flip() +\n",
    "    theme_minimal() +\n",
    "    # 坐标轴标题\n",
    "    labs(y=st_y_per, x=\"代际\") +\n",
    "    # 填充颜色\n",
    "    scale_fill_manual(values=c(yellow, brown))+\n",
    "    # 全图字体&字号\n",
    "    theme(text = element_text(family = font, size=11)) +\n",
    "    # 坐标轴外观\n",
    "    theme(\n",
    "      # 坐标轴标题距离其他元素间距&字号\n",
    "      axis.title.x = element_text(margin = margin(t = 10, r = 0, b = 0, l = 0), size=12), \n",
    "      axis.title.y = element_text(margin = margin(t = 0, r = 15, b = 0, l = 0), size=12),\n",
    "      # 坐标轴刻度字号\n",
    "      axis.text = element_text(size = 10))\n",
    "p2"
   ]
  },
  {
   "cell_type": "code",
   "execution_count": null,
   "metadata": {
    "vscode": {
     "languageId": "r"
    }
   },
   "outputs": [],
   "source": [
    "options(repr.plot.width=6, repr.plot.height=4) \n",
    "\n",
    "p3 <- \n",
    "  df_zh %>%\n",
    "  select(婚姻状态, 是否加班) %>% \n",
    "  group_by(婚姻状态, 是否加班) %>% \n",
    "  summarize(n=n()) %>% \n",
    "  mutate(pct=round(prop.table(n),2) * 100) %>% \n",
    "  arrange(desc(pct)) %>%\n",
    "    ggplot(aes(x=fct_reorder(婚姻状态,pct), y=pct, fill=是否加班, color=是否加班)) + \n",
    "    geom_bar(stat=\"identity\", color=\"black\", size=.1, width=.6, position=\"fill\") +\n",
    "    geom_label(aes(label=paste0(pct, \"%\"), fill = 是否加班), \n",
    "               color = \"black\", family = font, \n",
    "               position = position_fill(vjust = 0.5)) + \n",
    "    coord_flip() +\n",
    "    theme_minimal() +\n",
    "    # 坐标轴标题\n",
    "    labs(y=st_y_per, x=\"婚姻状态\") +\n",
    "    # 填充颜色\n",
    "    scale_fill_manual(values=c(yellow, brown))+\n",
    "    # 全图字体&字号\n",
    "    theme(text = element_text(family = font, size=11)) +\n",
    "    # 坐标轴外观\n",
    "    theme(\n",
    "      # 坐标轴标题距离其他元素间距&字号\n",
    "      axis.title.x = element_text(margin = margin(t = 10, r = 0, b = 0, l = 0), size=12), \n",
    "      axis.title.y = element_text(margin = margin(t = 0, r = 15, b = 0, l = 0), size=12),\n",
    "      # 坐标轴刻度字号\n",
    "      axis.text = element_text(size = 10)) +\n",
    "    # 不显示图例\n",
    "    theme(legend.position=\"none\")\n",
    "p3"
   ]
  },
  {
   "cell_type": "code",
   "execution_count": null,
   "metadata": {
    "vscode": {
     "languageId": "r"
    }
   },
   "outputs": [],
   "source": [
    "options(repr.plot.width=6, repr.plot.height=4) \n",
    "\n",
    "p4 <- \n",
    "  df_zh %>%\n",
    "  select(教育水平_文字, 是否加班) %>% \n",
    "  group_by(教育水平_文字, 是否加班) %>% \n",
    "  summarize(n=n()) %>% \n",
    "  mutate(pct=round(prop.table(n),2) * 100) %>% \n",
    "  arrange(desc(pct)) %>%\n",
    "    ggplot(aes(x=fct_reorder(教育水平_文字,pct), y=pct, fill=是否加班, color=是否加班)) + \n",
    "    geom_bar(stat=\"identity\", color=\"black\", size=.1, width=.6, position=\"fill\") +\n",
    "    geom_label(aes(label=paste0(pct, \"%\"), fill = 是否加班), \n",
    "               color = \"black\", family = font, \n",
    "               position = position_fill(vjust = 0.5)) + \n",
    "    coord_flip() +\n",
    "    theme_minimal() +\n",
    "    # 坐标轴标题\n",
    "    labs(y=st_y_per, x=\"教育水平\") +\n",
    "    # 填充颜色\n",
    "    scale_fill_manual(values=c(yellow, brown))+\n",
    "    # 全图字体&字号\n",
    "    theme(text = element_text(family = font, size=11)) +\n",
    "    # 坐标轴外观\n",
    "    theme(\n",
    "      # 坐标轴标题距离其他元素间距&字号\n",
    "      axis.title.x = element_text(margin = margin(t = 10, r = 0, b = 0, l = 0), size=12), \n",
    "      axis.title.y = element_text(margin = margin(t = 0, r = 15, b = 0, l = 0), size=12),\n",
    "      # 坐标轴刻度字号\n",
    "      axis.text = element_text(size = 10))\n",
    "p4"
   ]
  },
  {
   "cell_type": "code",
   "execution_count": null,
   "metadata": {
    "vscode": {
     "languageId": "r"
    }
   },
   "outputs": [],
   "source": [
    "ptions(repr.plot.width=8, repr.plot.height=4) \n",
    "\n",
    "library(Cairo)\n",
    "CairoPNG(file=\"26-人口-加班.png\", width=10, height=8, units = \"in\", res = 300)\n",
    "\n",
    "library(cowplot)\n",
    "plot_grid(p1, p2, p3, p4, ncol=2, nrow=2)\n",
    "\n",
    "dev.off()"
   ]
  },
  {
   "cell_type": "markdown",
   "metadata": {},
   "source": [
    "### Demographic characteristics -> Monthly income"
   ]
  },
  {
   "cell_type": "code",
   "execution_count": null,
   "metadata": {
    "vscode": {
     "languageId": "r"
    }
   },
   "outputs": [],
   "source": [
    "options(repr.plot.width=8, repr.plot.height=8) \n",
    "\n",
    "p1 <- df_zh %>% \n",
    "select(流失情况, 月收入, 性别) %>% \n",
    "ggplot(aes(x=月收入, y=性别)) + \n",
    "geom_jitter(aes(col=流失情况), alpha=0.5) + \n",
    "scale_color_manual(values=c(\"#a1dfc3\", darkred)) + \n",
    "labs(x=\"月收入（$）\") + \n",
    "theme_minimal() + \n",
    "theme(text = element_text(family = font, size=11),\n",
    "      panel.border = element_rect(color = \"black\", fill = NA, size = 0.3),\n",
    "      axis.title.x = element_text(margin = margin(t = 15, r = 0, b = 0, l = 0), size=12), \n",
    "      axis.title.y = element_text(margin = margin(t = 0, r = 15, b = 0, l = 0), size=12)) +\n",
    "# 不显示图例\n",
    "theme(legend.position=\"none\")\n",
    "\n",
    "p1"
   ]
  },
  {
   "cell_type": "code",
   "execution_count": null,
   "metadata": {
    "vscode": {
     "languageId": "r"
    }
   },
   "outputs": [],
   "source": [
    "options(repr.plot.width=8, repr.plot.height=8) \n",
    "\n",
    "p2 <- df_zh %>% \n",
    "select(流失情况, 月收入, 代际) %>% \n",
    "ggplot(aes(x=月收入, y=代际)) + \n",
    "geom_jitter(aes(col=流失情况), alpha=0.5) + \n",
    "scale_color_manual(values=c(\"#a1dfc3\", darkred)) + \n",
    "labs(x=\"月收入（$）\") + \n",
    "theme_minimal() + \n",
    "theme(text = element_text(family = font, size=11),\n",
    "      panel.border = element_rect(color = \"black\", fill = NA, size = 0.3),\n",
    "      axis.title.x = element_text(margin = margin(t = 15, r = 0, b = 0, l = 0), size=12), \n",
    "      axis.title.y = element_text(margin = margin(t = 0, r = 15, b = 0, l = 0), size=12))\n",
    "\n",
    "p2"
   ]
  },
  {
   "cell_type": "code",
   "execution_count": null,
   "metadata": {
    "vscode": {
     "languageId": "r"
    }
   },
   "outputs": [],
   "source": [
    "options(repr.plot.width=8, repr.plot.height=8) \n",
    "\n",
    "p3 <- df_zh %>% \n",
    "select(流失情况, 月收入, 婚姻状态) %>% \n",
    "ggplot(aes(x=月收入, y=婚姻状态)) + \n",
    "geom_jitter(aes(col=流失情况), alpha=0.5) + \n",
    "scale_color_manual(values=c(\"#a1dfc3\", darkred)) + \n",
    "labs(x=\"月收入（$）\") + \n",
    "theme_minimal() + \n",
    "theme(text = element_text(family = font, size=11),\n",
    "      panel.border = element_rect(color = \"black\", fill = NA, size = 0.3),\n",
    "      axis.title.x = element_text(margin = margin(t = 15, r = 0, b = 0, l = 0), size=12), \n",
    "      axis.title.y = element_text(margin = margin(t = 0, r = 15, b = 0, l = 0), size=12)) +\n",
    "# 不显示图例\n",
    "theme(legend.position=\"none\")\n",
    "\n",
    "p3"
   ]
  },
  {
   "cell_type": "code",
   "execution_count": null,
   "metadata": {
    "vscode": {
     "languageId": "r"
    }
   },
   "outputs": [],
   "source": [
    "options(repr.plot.width=8, repr.plot.height=8) \n",
    "\n",
    "p4 <- df_zh %>% \n",
    "select(流失情况, 月收入, 教育水平_文字) %>% \n",
    "ggplot(aes(x=月收入, y=教育水平_文字)) + \n",
    "geom_jitter(aes(col=流失情况), alpha=0.5) + \n",
    "scale_color_manual(values=c(\"#a1dfc3\", darkred)) + \n",
    "labs(x=\"月收入（$）\", y=\"教育水平\") + \n",
    "theme_minimal() + \n",
    "theme(text = element_text(family = font, size=11),\n",
    "      panel.border = element_rect(color = \"black\", fill = NA, size = 0.3),\n",
    "      axis.title.x = element_text(margin = margin(t = 15, r = 0, b = 0, l = 0), size=12), \n",
    "      axis.title.y = element_text(margin = margin(t = 0, r = 15, b = 0, l = 0), size=12))\n",
    "\n",
    "p4\n"
   ]
  },
  {
   "cell_type": "code",
   "execution_count": null,
   "metadata": {
    "vscode": {
     "languageId": "r"
    }
   },
   "outputs": [],
   "source": [
    "options(repr.plot.width=16, repr.plot.height=16) \n",
    "\n",
    "library(Cairo)\n",
    "CairoPNG(file=\"10-人口特征-月收入.png\", width=13, height=13, units = \"in\", res = 300)\n",
    "\n",
    "library(cowplot)\n",
    "plot_grid(p1, p2, p3, p4, ncol=2, nrow=2)\n",
    "\n",
    "dev.off()"
   ]
  },
  {
   "cell_type": "markdown",
   "metadata": {},
   "source": [
    "### Department and job role -> Overtime work"
   ]
  },
  {
   "cell_type": "code",
   "execution_count": null,
   "metadata": {
    "vscode": {
     "languageId": "r"
    }
   },
   "outputs": [],
   "source": [
    "options(repr.plot.width=6, repr.plot.height=4) \n",
    "\n",
    "p1 <- \n",
    "  df_zh %>%\n",
    "  select(所属部门, 是否加班) %>% \n",
    "  group_by(所属部门, 是否加班) %>% \n",
    "  summarize(n=n()) %>% \n",
    "  mutate(pct=round(prop.table(n),2) * 100) %>% \n",
    "  arrange(desc(pct)) %>%\n",
    "    ggplot(aes(x=fct_reorder(所属部门,pct), y=pct, fill=是否加班, color=是否加班)) + \n",
    "    geom_bar(stat=\"identity\", color=\"black\", size=.1, width=.6, position=\"fill\") +\n",
    "    geom_label(aes(label=paste0(pct, \"%\"), fill = 是否加班), \n",
    "               color = \"black\", family = font, \n",
    "               position = position_fill(vjust = 0.5)) + \n",
    "    coord_flip() +\n",
    "    theme_minimal() +\n",
    "    # 坐标轴标题\n",
    "    labs(y=st_y_per, x=\"部门\") +\n",
    "    # 填充颜色\n",
    "    scale_fill_manual(values=c(yellow, brown))+\n",
    "    # 全图字体&字号\n",
    "    theme(text = element_text(family = font, size=11)) +\n",
    "    # 坐标轴外观\n",
    "    theme(\n",
    "      # 坐标轴标题距离其他元素间距&字号\n",
    "      axis.title.x = element_text(margin = margin(t = 10, r = 0, b = 0, l = 0), size=12), \n",
    "      axis.title.y = element_text(margin = margin(t = 0, r = 15, b = 0, l = 0), size=12),\n",
    "      # 坐标轴刻度字号\n",
    "      axis.text = element_text(size = 10)) +\n",
    "    # 不显示图例\n",
    "    theme(legend.position=\"none\")\n",
    "p1"
   ]
  },
  {
   "cell_type": "code",
   "execution_count": null,
   "metadata": {
    "vscode": {
     "languageId": "r"
    }
   },
   "outputs": [],
   "source": [
    "options(repr.plot.width=6, repr.plot.height=4) \n",
    "\n",
    "p2 <- \n",
    "  df_zh %>%\n",
    "  select(岗位名称, 是否加班) %>% \n",
    "  group_by(岗位名称, 是否加班) %>% \n",
    "  summarize(n=n()) %>% \n",
    "  mutate(pct=round(prop.table(n),2) * 100) %>% \n",
    "  arrange(desc(pct)) %>%\n",
    "    ggplot(aes(x=fct_reorder(岗位名称,pct), y=pct, fill=是否加班, color=是否加班)) + \n",
    "    geom_bar(stat=\"identity\", color=\"black\", size=.1, width=.6, position=\"fill\") +\n",
    "    geom_label(aes(label=paste0(pct, \"%\"), fill = 是否加班), \n",
    "               color = \"black\", family = font, \n",
    "               position = position_fill(vjust = 0.5)) + \n",
    "    coord_flip() +\n",
    "    theme_minimal() +\n",
    "    # 坐标轴标题\n",
    "    labs(y=st_y_per, x=\"岗位\") +\n",
    "    # 填充颜色\n",
    "    scale_fill_manual(values=c(yellow, brown))+\n",
    "    # 全图字体&字号\n",
    "    theme(text = element_text(family = font, size=11)) +\n",
    "    # 坐标轴外观\n",
    "    theme(\n",
    "      # 坐标轴标题距离其他元素间距&字号\n",
    "      axis.title.x = element_text(margin = margin(t = 10, r = 0, b = 0, l = 0), size=12), \n",
    "      axis.title.y = element_text(margin = margin(t = 0, r = 15, b = 0, l = 0), size=12),\n",
    "      # 坐标轴刻度字号\n",
    "      axis.text = element_text(size = 10))\n",
    "p2"
   ]
  },
  {
   "cell_type": "code",
   "execution_count": null,
   "metadata": {
    "vscode": {
     "languageId": "r"
    }
   },
   "outputs": [],
   "source": [
    "options(repr.plot.width=8, repr.plot.height=4) \n",
    "\n",
    "library(Cairo)\n",
    "CairoPNG(file=\"25-部门&岗位-加班.png\", width=10, height=4, units = \"in\", res = 300)\n",
    "\n",
    "library(cowplot)\n",
    "plot_grid(p1, p2, ncol=2)\n",
    "\n",
    "dev.off()"
   ]
  },
  {
   "cell_type": "markdown",
   "metadata": {},
   "source": [
    "### Department and job role -> Monthly income"
   ]
  },
  {
   "cell_type": "code",
   "execution_count": null,
   "metadata": {
    "vscode": {
     "languageId": "r"
    }
   },
   "outputs": [],
   "source": [
    "ptions(repr.plot.width=8, repr.plot.height=8) \n",
    "\n",
    "p1_1 <- df_zh %>% \n",
    "select(流失情况, 所属部门, 月收入) %>% \n",
    "ggplot(aes(x=月收入, y=所属部门)) + \n",
    "geom_jitter(aes(col=流失情况), alpha=0.5) + \n",
    "scale_color_manual(values=c(\"#a1dfc3\", darkred)) + \n",
    "labs(y=\"所属部门\", x=\"月收入（$）\") + \n",
    "theme_minimal() + \n",
    "theme(text = element_text(family = font, size=11),\n",
    "      panel.border = element_rect(color = \"black\", fill = NA, size = 0.3),\n",
    "      axis.title.x = element_text(margin = margin(t = 15, r = 0, b = 0, l = 0), size=12), \n",
    "      axis.title.y = element_text(margin = margin(t = 0, r = 15, b = 0, l = 0), size=12)) +\n",
    "# 不显示图例\n",
    "theme(legend.position=\"none\")\n",
    "\n",
    "p1_1"
   ]
  },
  {
   "cell_type": "code",
   "execution_count": null,
   "metadata": {
    "vscode": {
     "languageId": "r"
    }
   },
   "outputs": [],
   "source": [
    "options(repr.plot.width=8, repr.plot.height=8) \n",
    "\n",
    "p1_1 <- df_zh %>% \n",
    "select(流失情况, 岗位名称, 月收入) %>% \n",
    "ggplot(aes(x=月收入, y=岗位名称)) + \n",
    "geom_jitter(aes(col=流失情况), alpha=0.5) + \n",
    "scale_color_manual(values=c(\"#a1dfc3\", darkred)) + \n",
    "labs(y=\"岗位\", x=\"月收入（$）\") + \n",
    "theme_minimal() + \n",
    "theme(text = element_text(family = font, size=11),\n",
    "      panel.border = element_rect(color = \"black\", fill = NA, size = 0.3),\n",
    "      axis.title.x = element_text(margin = margin(t = 15, r = 0, b = 0, l = 0), size=12), \n",
    "      axis.title.y = element_text(margin = margin(t = 0, r = 15, b = 0, l = 0), size=12)) +\n",
    "# 不显示图例\n",
    "theme(legend.position=\"none\")\n",
    "\n",
    "p1_1"
   ]
  },
  {
   "cell_type": "code",
   "execution_count": null,
   "metadata": {
    "vscode": {
     "languageId": "r"
    }
   },
   "outputs": [],
   "source": [
    "options(repr.plot.width=16, repr.plot.height=8) \n",
    "\n",
    "library(Cairo)\n",
    "CairoPNG(file=\"05-部门-收入.png\", width=12, height=6, units = \"in\", res = 300)\n",
    "\n",
    "library(cowplot)\n",
    "plot_grid(p1_1, p1_2, ncol=2)\n",
    "\n",
    "dev.off()"
   ]
  },
  {
   "cell_type": "markdown",
   "metadata": {},
   "source": [
    "## Correlation coefficient analysis\n",
    "1. Draw the correlation matrix\n",
    "2. Bivariate analysis"
   ]
  },
  {
   "cell_type": "markdown",
   "metadata": {},
   "source": [
    "### Draw the correlation matrix"
   ]
  },
  {
   "cell_type": "code",
   "execution_count": null,
   "metadata": {
    "vscode": {
     "languageId": "r"
    }
   },
   "outputs": [],
   "source": [
    "options(repr.plot.width=13, repr.plot.height=10) \n",
    "# 筛选数值列\n",
    "nums <- select_if(df_train, is.numeric)\n",
    "#计算相关系数\n",
    "corr <- round(cor(nums), 1)\n",
    "# 记录显著差异\n",
    "p.mat <- cor_pmat(nums)"
   ]
  },
  {
   "cell_type": "code",
   "execution_count": null,
   "metadata": {
    "vscode": {
     "languageId": "r"
    }
   },
   "outputs": [],
   "source": [
    "options(repr.plot.width=10, repr.plot.height=7) \n",
    "\n",
    "nums <- select_if(df_zh, is.numeric)\n",
    "\n",
    "corr <- round(cor(nums), 1)\n",
    "\n",
    "library(Cairo)\n",
    "CairoPNG(file=\"17-相关系数.png\", width=10, height=7, units = \"in\", res = 300)\n",
    "\n",
    "library(ggcorrplot)\n",
    "ggcorrplot(corr, \n",
    "           type = \"lower\", \n",
    "           lab = TRUE, \n",
    "           lab_size = 3, \n",
    "           method=\"square\", \n",
    "           colors = c(\"#95001c\", \"white\", \"#1c642d\"),\n",
    "           ggtheme=theme_minimal()) + \n",
    "theme(text = element_text(family = font, size=10))\n",
    "\n",
    "dev.off()"
   ]
  },
  {
   "cell_type": "markdown",
   "metadata": {},
   "source": [
    "### Bivariate analysis"
   ]
  },
  {
   "cell_type": "code",
   "execution_count": null,
   "metadata": {
    "vscode": {
     "languageId": "r"
    }
   },
   "outputs": [],
   "source": [
    "options(repr.plot.width=6, repr.plot.height=4) \n",
    "\n",
    "    p1 <- df_zh %>% \n",
    "    ggplot(aes(x=总工作年数, y=月收入)) + \n",
    "    geom_point(color = \"#c4e3ba\", alpha=1/2) +\n",
    "    geom_smooth(method=\"loess\", color=\"red\") + \n",
    "theme_minimal() +\n",
    "theme(# 全图字体&字号\n",
    "      text = element_text(family = font, size=11),\n",
    "      # 坐标轴标题距离其他元素间距&字号\n",
    "      axis.title.x = element_text(margin = margin(t = 10, r = 0, b = 0, l = 0), size=12), \n",
    "      axis.title.y = element_text(margin = margin(t = 0, r = 15, b = 0, l = 0), size=12),\n",
    "      # 坐标轴刻度字号\n",
    "      axis.text = element_text(size = 10))\n",
    "p1"
   ]
  },
  {
   "cell_type": "code",
   "execution_count": null,
   "metadata": {
    "vscode": {
     "languageId": "r"
    }
   },
   "outputs": [],
   "source": [
    "options(repr.plot.width=6, repr.plot.height=4) \n",
    "\n",
    "p2 <- df_zh %>% \n",
    "ggplot(aes(x=年龄, y=月收入)) + \n",
    "geom_point(color = \"#c4e3ba\", alpha=1/2) +\n",
    "geom_smooth(method=\"loess\", color=\"red\") + \n",
    "theme_minimal() +\n",
    "theme(# 全图字体&字号\n",
    "      text = element_text(family = font, size=11),\n",
    "      # 坐标轴标题距离其他元素间距&字号\n",
    "      axis.title.x = element_text(margin = margin(t = 10, r = 0, b = 0, l = 0), size=12), \n",
    "      axis.title.y = element_text(margin = margin(t = 0, r = 15, b = 0, l = 0), size=12),\n",
    "      # 坐标轴刻度字号\n",
    "      axis.text = element_text(size = 10))\n",
    "p2"
   ]
  },
  {
   "cell_type": "code",
   "execution_count": null,
   "metadata": {
    "vscode": {
     "languageId": "r"
    }
   },
   "outputs": [],
   "source": [
    "options(repr.plot.width=6, repr.plot.height=4) \n",
    "\n",
    "p3 <- df_zh %>% \n",
    "ggplot(aes(x=在当前公司的工作年数, y=月收入)) + \n",
    "geom_point(color = \"#c4e3ba\", alpha=1/2) +\n",
    "geom_smooth(method=\"loess\", color=\"red\") + \n",
    "theme_minimal() +\n",
    "theme(# 全图字体&字号\n",
    "      text = element_text(family = font, size=11),\n",
    "      # 坐标轴标题距离其他元素间距&字号\n",
    "      axis.title.x = element_text(margin = margin(t = 10, r = 0, b = 0, l = 0), size=12), \n",
    "      axis.title.y = element_text(margin = margin(t = 0, r = 15, b = 0, l = 0), size=12),\n",
    "      # 坐标轴刻度字号\n",
    "      axis.text = element_text(size = 10))\n",
    "p3"
   ]
  },
  {
   "cell_type": "code",
   "execution_count": null,
   "metadata": {
    "vscode": {
     "languageId": "r"
    }
   },
   "outputs": [],
   "source": [
    "options(repr.plot.width=6, repr.plot.height=4) \n",
    "\n",
    "p4 <- df_zh %>% \n",
    "ggplot(aes(x=在当前职位的工作年数, y=月收入)) + \n",
    "geom_point(color = \"#c4e3ba\", alpha=1/2) +\n",
    "geom_smooth(method=\"loess\", color=\"red\") + \n",
    "theme_minimal() +\n",
    "theme(# 全图字体&字号\n",
    "      text = element_text(family = font, size=11),\n",
    "      # 坐标轴标题距离其他元素间距&字号\n",
    "      axis.title.x = element_text(margin = margin(t = 10, r = 0, b = 0, l = 0), size=12), \n",
    "      axis.title.y = element_text(margin = margin(t = 0, r = 15, b = 0, l = 0), size=12),\n",
    "      # 坐标轴刻度字号\n",
    "      axis.text = element_text(size = 10))\n",
    "p4"
   ]
  },
  {
   "cell_type": "code",
   "execution_count": null,
   "metadata": {
    "vscode": {
     "languageId": "r"
    }
   },
   "outputs": [],
   "source": [
    "options(repr.plot.width=22, repr.plot.height=8) \n",
    "\n",
    "library(Cairo)\n",
    "CairoPNG(file=\"18-双变量-正.png\", width=13, height=10, units = \"in\", res = 300)\n",
    "\n",
    "library(cowplot)\n",
    "plot_grid(p1, p2, p3, p4, ncol=2, nrow=2)\n",
    "\n",
    "dev.off()"
   ]
  },
  {
   "cell_type": "markdown",
   "metadata": {},
   "source": [
    "# Satisfaction analysis\n",
    "1. Satisfaction -> Attrition\n",
    "2. Department and job role -> Satisfaction"
   ]
  },
  {
   "cell_type": "markdown",
   "metadata": {},
   "source": [
    "## Satisfaction -> Attrition"
   ]
  },
  {
   "cell_type": "code",
   "execution_count": null,
   "metadata": {
    "vscode": {
     "languageId": "r"
    }
   },
   "outputs": [],
   "source": [
    "options(repr.plot.width=6, repr.plot.height=4) \n",
    "\n",
    "p1 <- \n",
    "  df_zh %>%\n",
    "  select(环境满意度, 流失情况) %>% \n",
    "  group_by(环境满意度, 流失情况) %>% \n",
    "  summarize(n=n()) %>% \n",
    "  mutate(pct=round(prop.table(n),2) * 100) %>% \n",
    "  arrange(desc(pct)) %>%\n",
    "    ggplot(aes(x=环境满意度, y=pct, fill=流失情况, color=流失情况)) + \n",
    "    geom_bar(stat=\"identity\", color=\"black\", size=.1, width=.6, position=\"fill\") +\n",
    "    geom_label(aes(label=paste0(pct, \"%\"), fill = 流失情况), \n",
    "               color = \"black\", family = font, \n",
    "               position = position_fill(vjust = 0.5)) + \n",
    "    coord_flip() +\n",
    "    theme_minimal() +\n",
    "    # 坐标轴标题\n",
    "    labs(y=st_y_per) +\n",
    "    # 填充颜色\n",
    "    scale_fill_manual(values=c(red, green))+\n",
    "    # 全图字体&字号\n",
    "    theme(text = element_text(family = font, size=11)) +\n",
    "    # 坐标轴外观\n",
    "    theme(\n",
    "      # 坐标轴标题距离其他元素间距&字号\n",
    "      axis.title.x = element_text(margin = margin(t = 10, r = 0, b = 0, l = 0), size=12), \n",
    "      axis.title.y = element_text(margin = margin(t = 0, r = 15, b = 0, l = 0), size=12),\n",
    "      # 坐标轴刻度字号\n",
    "      axis.text = element_text(size = 10)) +\n",
    "    # 不显示图例\n",
    "    theme(legend.position=\"none\")\n",
    "p1"
   ]
  },
  {
   "cell_type": "code",
   "execution_count": null,
   "metadata": {
    "vscode": {
     "languageId": "r"
    }
   },
   "outputs": [],
   "source": [
    "options(repr.plot.width=6, repr.plot.height=4) \n",
    "\n",
    "p2 <- \n",
    "  df_zh %>%\n",
    "  select(人际关系满意度, 流失情况) %>% \n",
    "  group_by(人际关系满意度, 流失情况) %>% \n",
    "  summarize(n=n()) %>% \n",
    "  mutate(pct=round(prop.table(n),2) * 100) %>% \n",
    "  arrange(desc(pct)) %>%\n",
    "    ggplot(aes(x=人际关系满意度, y=pct, fill=流失情况, color=流失情况)) + \n",
    "    geom_bar(stat=\"identity\", color=\"black\", size=.1, width=.6, position=\"fill\") +\n",
    "    geom_label(aes(label=paste0(pct, \"%\"), fill = 流失情况), \n",
    "               color = \"black\", family = font, \n",
    "               position = position_fill(vjust = 0.5)) + \n",
    "    coord_flip() +\n",
    "    theme_minimal() +\n",
    "    # 坐标轴标题\n",
    "    labs(y=st_y_per) +\n",
    "    # 填充颜色\n",
    "    scale_fill_manual(values=c(red, green))+\n",
    "    # 全图字体&字号\n",
    "    theme(text = element_text(family = font, size=11)) +\n",
    "    # 坐标轴外观\n",
    "    theme(\n",
    "      # 坐标轴标题距离其他元素间距&字号\n",
    "      axis.title.x = element_text(margin = margin(t = 10, r = 0, b = 0, l = 0), size=12), \n",
    "      axis.title.y = element_text(margin = margin(t = 0, r = 15, b = 0, l = 0), size=12),\n",
    "      # 坐标轴刻度字号\n",
    "      axis.text = element_text(size = 10)) +\n",
    "    # 不显示图例\n",
    "    theme(legend.position=\"none\")\n",
    "p2"
   ]
  },
  {
   "cell_type": "code",
   "execution_count": null,
   "metadata": {
    "vscode": {
     "languageId": "r"
    }
   },
   "outputs": [],
   "source": [
    "options(repr.plot.width=6, repr.plot.height=4) \n",
    "\n",
    "p3 <- \n",
    "  df_zh %>%\n",
    "  select(工作满意度, 流失情况) %>% \n",
    "  group_by(工作满意度, 流失情况) %>% \n",
    "  summarize(n=n()) %>% \n",
    "  mutate(pct=round(prop.table(n),2) * 100) %>% \n",
    "  arrange(desc(pct)) %>%\n",
    "    ggplot(aes(x=工作满意度, y=pct, fill=流失情况, color=流失情况)) + \n",
    "    geom_bar(stat=\"identity\", color=\"black\", size=.1, width=.6, position=\"fill\") +\n",
    "    geom_label(aes(label=paste0(pct, \"%\"), fill = 流失情况), \n",
    "               color = \"black\", family = font, \n",
    "               position = position_fill(vjust = 0.5)) + \n",
    "    coord_flip() +\n",
    "    theme_minimal() +\n",
    "    # 坐标轴标题\n",
    "    labs(y=st_y_per) +\n",
    "    # 填充颜色\n",
    "    scale_fill_manual(values=c(red, green))+\n",
    "    # 全图字体&字号\n",
    "    theme(text = element_text(family = font, size=11)) +\n",
    "    # 坐标轴外观\n",
    "    theme(\n",
    "      # 坐标轴标题距离其他元素间距&字号\n",
    "      axis.title.x = element_text(margin = margin(t = 10, r = 0, b = 0, l = 0), size=12), \n",
    "      axis.title.y = element_text(margin = margin(t = 0, r = 15, b = 0, l = 0), size=12),\n",
    "      # 坐标轴刻度字号\n",
    "      axis.text = element_text(size = 10))\n",
    "p3"
   ]
  },
  {
   "cell_type": "code",
   "execution_count": null,
   "metadata": {
    "vscode": {
     "languageId": "r"
    }
   },
   "outputs": [],
   "source": [
    "options(repr.plot.width=15, repr.plot.height=4) \n",
    "\n",
    "library(Cairo)\n",
    "CairoPNG(file=\"09-满意度.png\", width=12, height=4, units = \"in\", res = 300)\n",
    "\n",
    "library(cowplot)\n",
    "plot_grid(p1, p2, p3, ncol=3)\n",
    "\n",
    "dev.off()"
   ]
  },
  {
   "cell_type": "markdown",
   "metadata": {},
   "source": [
    "## Department and job role -> Satisfaction"
   ]
  },
  {
   "cell_type": "code",
   "execution_count": null,
   "metadata": {
    "vscode": {
     "languageId": "r"
    }
   },
   "outputs": [],
   "source": [
    "options(repr.plot.width=6, repr.plot.height=4) \n",
    "library(viridis)\n",
    "\n",
    "p_b_h <- df_zh %>% \n",
    "ggplot(aes(x=所属部门, group=环境满意度, fill=环境满意度)) +\n",
    "geom_density(adjust=1.5, position=\"fill\", size=0.5) + \n",
    "# 颜色集\n",
    "scale_fill_viridis(alpha=0.8) +\n",
    "theme_minimal() + \n",
    "# 设置图例顺序\n",
    "guides(fill = guide_legend(reverse=FALSE)) +\n",
    "labs(y=st_y_per) +\n",
    "theme(text = element_text(family = font, size=11),\n",
    "      axis.title.x = element_text(margin = margin(t = 15, r = 0, b = 0, l = 0), size=12), \n",
    "      axis.title.y = element_text(margin = margin(t = 0, r = 15, b = 0, l = 0), size=12)) +\n",
    "# 不显示图例\n",
    "theme(legend.position=\"none\") \n",
    "p_b_h"
   ]
  },
  {
   "cell_type": "code",
   "execution_count": null,
   "metadata": {
    "vscode": {
     "languageId": "r"
    }
   },
   "outputs": [],
   "source": [
    "options(repr.plot.width=6, repr.plot.height=4) \n",
    "library(viridis)\n",
    "\n",
    "p_b_r <- df_zh %>% \n",
    "ggplot(aes(x=所属部门, group=人际关系满意度, fill=人际关系满意度)) +\n",
    "geom_density(adjust=1.5, position=\"fill\", size=0.5) + \n",
    "# 颜色集\n",
    "scale_fill_viridis(alpha=0.8) +\n",
    "theme_minimal() + \n",
    "# 设置图例顺序\n",
    "guides(fill = guide_legend(reverse=FALSE)) +\n",
    "labs(y=st_y_per) +\n",
    "theme(text = element_text(family = font, size=11),\n",
    "      axis.title.x = element_text(margin = margin(t = 15, r = 0, b = 0, l = 0), size=12), \n",
    "      axis.title.y = element_text(margin = margin(t = 0, r = 15, b = 0, l = 0), size=12)) +\n",
    "# 不显示图例\n",
    "theme(legend.position=\"none\") \n",
    "p_b_r"
   ]
  },
  {
   "cell_type": "code",
   "execution_count": null,
   "metadata": {
    "vscode": {
     "languageId": "r"
    }
   },
   "outputs": [],
   "source": [
    "options(repr.plot.width=6, repr.plot.height=4) \n",
    "library(viridis)\n",
    "\n",
    "p_b_g <- df_zh %>% \n",
    "ggplot(aes(x=所属部门, group=工作满意度, fill=工作满意度)) +\n",
    "geom_density(adjust=1.5, position=\"fill\", size=0.5) + \n",
    "# 颜色集\n",
    "scale_fill_viridis(alpha=0.8) +\n",
    "theme_minimal() + \n",
    "# 设置图例顺序\n",
    "guides(fill = guide_legend(reverse=FALSE)) +\n",
    "labs(y=st_y_per) +\n",
    "theme(text = element_text(family = font, size=11),\n",
    "      axis.title.x = element_text(margin = margin(t = 15, r = 0, b = 0, l = 0), size=12), \n",
    "      axis.title.y = element_text(margin = margin(t = 0, r = 15, b = 0, l = 0), size=12)) +\n",
    "# 不显示图例\n",
    "theme(legend.position=\"none\") \n",
    "p_b_g"
   ]
  },
  {
   "cell_type": "code",
   "execution_count": null,
   "metadata": {
    "vscode": {
     "languageId": "r"
    }
   },
   "outputs": [],
   "source": [
    "options(repr.plot.width=6, repr.plot.height=4) \n",
    "library(viridis)\n",
    "\n",
    "p_g_h <- df_zh %>% \n",
    "ggplot(aes(x=岗位名称, group=环境满意度, fill=环境满意度)) +\n",
    "geom_density(adjust=1.5, position=\"fill\", size=0.5) + \n",
    "# 颜色集\n",
    "scale_fill_viridis(alpha=0.8) +\n",
    "theme_minimal() + \n",
    "# 设置图例顺序\n",
    "guides(fill = guide_legend(reverse=FALSE)) +\n",
    "labs(y=st_y_per) +\n",
    "theme(text = element_text(family = font, size=11),\n",
    "      axis.title.x = element_text(margin = margin(t = -10, r = 0, b = 0, l = 0), size=12), \n",
    "      axis.title.y = element_text(margin = margin(t = 0, r = 15, b = 0, l = 0), size=12),\n",
    "      axis.text.x = element_text(margin = margin(t = 10, r = 0, b = 0, l = 0), angle=45)) +\n",
    "theme(plot.margin = margin(t = 0, r = .5, b = 0, l = 0, unit = \"cm\"))\n",
    "p_g_h"
   ]
  },
  {
   "cell_type": "code",
   "execution_count": null,
   "metadata": {
    "vscode": {
     "languageId": "r"
    }
   },
   "outputs": [],
   "source": [
    "options(repr.plot.width=6, repr.plot.height=4) \n",
    "library(viridis)\n",
    "\n",
    "p_g_r <- df_zh %>% \n",
    "ggplot(aes(x=岗位名称, group=人际关系满意度, fill=人际关系满意度)) +\n",
    "geom_density(adjust=1.5, position=\"fill\", size=0.5) + \n",
    "# 颜色集\n",
    "scale_fill_viridis(alpha=0.8) +\n",
    "theme_minimal() + \n",
    "# 设置图例顺序\n",
    "guides(fill = guide_legend(reverse=FALSE)) +\n",
    "labs(y=st_y_per) +\n",
    "theme(text = element_text(family = font, size=11),\n",
    "      axis.title.x = element_text(margin = margin(t = -10, r = 0, b = 0, l = 0), size=12), \n",
    "      axis.title.y = element_text(margin = margin(t = 0, r = 15, b = 0, l = 0), size=12),\n",
    "      axis.text.x = element_text(margin = margin(t = 10, r = 0, b = 0, l = 0), angle=45)) +\n",
    "theme(plot.margin = margin(t = 0, r = .5, b = 0, l = 0, unit = \"cm\"))\n",
    "p_g_r"
   ]
  },
  {
   "cell_type": "code",
   "execution_count": null,
   "metadata": {
    "vscode": {
     "languageId": "r"
    }
   },
   "outputs": [],
   "source": [
    "options(repr.plot.width=6, repr.plot.height=4) \n",
    "library(viridis)\n",
    "\n",
    "p_g_g <- df_zh %>% \n",
    "ggplot(aes(x=岗位名称, group=工作满意度, fill=工作满意度)) +\n",
    "geom_density(adjust=1.5, position=\"fill\", size=0.5) + \n",
    "# 颜色集\n",
    "scale_fill_viridis(alpha=0.8) +\n",
    "theme_minimal() + \n",
    "# 设置图例顺序\n",
    "guides(fill = guide_legend(reverse=FALSE)) +\n",
    "labs(y=st_y_per) +\n",
    "theme(text = element_text(family = font, size=11),\n",
    "      axis.title.x = element_text(margin = margin(t = -10, r = 0, b = 0, l = 0), size=12), \n",
    "      axis.title.y = element_text(margin = margin(t = 0, r = 15, b = 0, l = 0), size=12),\n",
    "      axis.text.x = element_text(margin = margin(t = 10, r = 0, b = 0, l = 0), angle=45)) +\n",
    "theme(plot.margin = margin(t = 0, r = .5, b = 0, l = 0, unit = \"cm\"))\n",
    "      \n",
    "p_g_g"
   ]
  },
  {
   "cell_type": "code",
   "execution_count": null,
   "metadata": {
    "vscode": {
     "languageId": "r"
    }
   },
   "outputs": [],
   "source": [
    "options(repr.plot.width=13, repr.plot.height=13) \n",
    "\n",
    "library(Cairo)\n",
    "CairoPNG(file=\"27-部门&岗位-满意度.png\", width=13, height=13, units = \"in\", res = 300)\n",
    "\n",
    "library(cowplot)\n",
    "plot_grid(p_b_h, p_g_h, p_b_r, p_g_r, p_b_g, p_g_g, ncol=2, nrow=3)\n",
    "\n",
    "dev.off()"
   ]
  }
 ],
 "metadata": {
  "kernelspec": {
   "display_name": "R",
   "language": "R",
   "name": "ir"
  },
  "language_info": {
   "codemirror_mode": "r",
   "file_extension": ".r",
   "mimetype": "text/x-r-source",
   "name": "R",
   "pygments_lexer": "r",
   "version": "4.3.0"
  }
 },
 "nbformat": 4,
 "nbformat_minor": 2
}
